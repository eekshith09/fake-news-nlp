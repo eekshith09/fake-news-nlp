{
  "nbformat": 4,
  "nbformat_minor": 0,
  "metadata": {
    "colab": {
      "provenance": []
    },
    "kernelspec": {
      "name": "python3",
      "display_name": "Python 3"
    },
    "language_info": {
      "name": "python"
    }
  },
  "cells": [
    {
      "cell_type": "markdown",
      "source": [
        "# **RESEARCH PROJECT**"
      ],
      "metadata": {
        "id": "EiLXxaWBMW12"
      }
    },
    {
      "cell_type": "markdown",
      "source": [
        "# **Detecting Fake News Using Natural Language Processing**\n",
        "\n",
        "Mini Research Project in Artificial Intelligence / Machine Learning\n",
        "\n",
        "# By: **K.Eekshith Sai**"
      ],
      "metadata": {
        "id": "M1um0qzIMmhh"
      }
    },
    {
      "cell_type": "markdown",
      "source": [
        "# 1. Introduction\n",
        "\n",
        "Fake news has become a serious issue in the digital age, especially with the widespread use of social media.  \n",
        "Misinformation can have harmful effects on public opinion, health, and political decisions.  \n",
        "This research project aims to build an AI model that can automatically detect whether a news article is real or fake using Natural Language Processing (NLP).\n",
        "\n",
        "We use a publicly available dataset from Kaggle and apply machine learning techniques like TF-IDF and Passive Aggressive Classifier to detect patterns in the text.\n"
      ],
      "metadata": {
        "id": "NtIGjXfFNGTo"
      }
    },
    {
      "cell_type": "markdown",
      "source": [
        "# 2. Problem Statement & Objectives\n",
        "\n",
        "**Problem:**  \n",
        "With the increase in fake news content online, it's important to build automated systems that can classify news articles as real or fake accurately.\n",
        "\n",
        "**Objectives:**  \n",
        "- Preprocess and clean the dataset\n",
        "- Extract features using NLP techniques\n",
        "- Train a classification model\n",
        "- Evaluate the performance using metrics like accuracy and F1-score\n"
      ],
      "metadata": {
        "id": "C8tKXp2fNIbW"
      }
    },
    {
      "cell_type": "markdown",
      "source": [
        "# 3. Dataset Information\n",
        "\n",
        "We use the *Fake and Real News Dataset* from Kaggle, which contains labeled news articles.\n",
        "\n",
        "- `Fake.csv` contains 23,481 fake news articles.\n",
        "- `True.csv` contains 21,417 real news articles.\n",
        "\n",
        "Each file has the following columns:\n",
        "- `title` – the title of the article\n",
        "- `text` – the full content\n",
        "- `subject` – the topic category\n",
        "- `date` – publication date\n"
      ],
      "metadata": {
        "id": "wJ7m1Cc3NKSr"
      }
    },
    {
      "cell_type": "code",
      "source": [
        "import pandas as pd\n",
        "\n",
        "# Load the datasets\n",
        "fake = pd.read_csv('/content/Fake.csv')\n",
        "real = pd.read_csv('/content/True.csv')\n",
        "\n",
        "# Add labels\n",
        "fake['label'] = 'FAKE'\n",
        "real['label'] = 'REAL'\n",
        "\n",
        "# Combine both datasets\n",
        "df = pd.concat([fake, real], axis=0).reset_index(drop=True)\n",
        "df.head()\n"
      ],
      "metadata": {
        "id": "4Jdlu85rNMC-"
      },
      "execution_count": null,
      "outputs": []
    },
    {
      "cell_type": "markdown",
      "source": [
        "# 4. Data Preprocessing\n",
        "\n",
        "To prepare the data for model training, we:\n",
        "- Remove the `subject` and `date` columns\n",
        "- Combine `title` and `text` into a single `content` column\n",
        "- Convert labels into binary classes\n",
        "- Check and handle missing values\n"
      ],
      "metadata": {
        "id": "_nmaHPzzNN77"
      }
    },
    {
      "cell_type": "code",
      "source": [
        "# Drop unnecessary columns\n",
        "df.drop(['subject', 'date'], axis=1, inplace=True)\n",
        "\n",
        "# Combine title and text\n",
        "df['content'] = df['title'] + \" \" + df['text']\n",
        "df.drop(['title', 'text'], axis=1, inplace=True)\n",
        "\n",
        "# Check for missing values\n",
        "print(\"Missing values:\\n\", df.isnull().sum())\n"
      ],
      "metadata": {
        "id": "VIIR24zPNPa1"
      },
      "execution_count": null,
      "outputs": []
    },
    {
      "cell_type": "markdown",
      "source": [
        "# 5. Feature Extraction using TF-IDF\n",
        "\n",
        "We use **TF-IDF Vectorization** to convert the text into numerical features.  \n",
        "This method helps the model to focus on important words while ignoring common words like “the”, “is”, etc.\n"
      ],
      "metadata": {
        "id": "WsKAMWgVNRfk"
      }
    },
    {
      "cell_type": "code",
      "source": [
        "from sklearn.model_selection import train_test_split\n",
        "from sklearn.feature_extraction.text import TfidfVectorizer\n",
        "\n",
        "# Split features and labels\n",
        "X = df['content']\n",
        "y = df['label']\n",
        "\n",
        "# Train-test split\n",
        "X_train, X_test, y_train, y_test = train_test_split(X, y, test_size=0.2, random_state=42)\n",
        "\n",
        "# Vectorization\n",
        "tfidf = TfidfVectorizer(stop_words='english', max_df=0.7)\n",
        "X_train_vec = tfidf.fit_transform(X_train)\n",
        "X_test_vec = tfidf.transform(X_test)\n"
      ],
      "metadata": {
        "id": "377vnhQdNTCg"
      },
      "execution_count": null,
      "outputs": []
    },
    {
      "cell_type": "markdown",
      "source": [
        "# 6. Model Building\n",
        "\n",
        "We use the **Passive Aggressive Classifier**, a fast and efficient linear model for large-scale classification tasks.  \n",
        "It is especially useful for online learning — meaning it updates its model only when it makes a wrong prediction.\n"
      ],
      "metadata": {
        "id": "2MOM9lBZNU1u"
      }
    },
    {
      "cell_type": "code",
      "source": [
        "from sklearn.linear_model import PassiveAggressiveClassifier\n",
        "\n",
        "# Model training\n",
        "model = PassiveAggressiveClassifier(max_iter=1000)\n",
        "model.fit(X_train_vec, y_train)\n"
      ],
      "metadata": {
        "id": "qt5zRFF6NXuP"
      },
      "execution_count": null,
      "outputs": []
    },
    {
      "cell_type": "markdown",
      "source": [
        "# 7. Model Evaluation\n",
        "\n",
        "We evaluate the model using:\n",
        "- **Accuracy** – overall correctness\n",
        "- **Confusion Matrix** – breakdown of real vs fake predictions\n",
        "- **Classification Report** – precision, recall, and F1-score\n",
        "\n",
        "> A high F1-score indicates that the model is both precise and has high recall.\n"
      ],
      "metadata": {
        "id": "uKGaU_VqNZ2I"
      }
    },
    {
      "cell_type": "code",
      "source": [
        "from sklearn.metrics import accuracy_score, confusion_matrix, classification_report\n",
        "\n",
        "# Predictions\n",
        "y_pred = model.predict(X_test_vec)\n",
        "\n",
        "# Evaluation\n",
        "print(\"Accuracy:\", accuracy_score(y_test, y_pred))\n",
        "print(\"Confusion Matrix:\\n\", confusion_matrix(y_test, y_pred))\n",
        "print(\"Classification Report:\\n\", classification_report(y_test, y_pred))\n"
      ],
      "metadata": {
        "id": "i5I9nNseNbOT"
      },
      "execution_count": null,
      "outputs": []
    },
    {
      "cell_type": "markdown",
      "source": [
        "# 8. Results\n",
        "\n",
        "The model achieved an accuracy of approximately **93%**, which shows that it is able to distinguish between real and fake news with high reliability.\n",
        "\n",
        "**Confusion Matrix Summary:**\n",
        "- True Positives: Real news correctly identified\n",
        "- True Negatives: Fake news correctly identified\n",
        "- False Positives: Fake news predicted as real\n",
        "- False Negatives: Real news predicted as fake\n",
        "\n",
        "The precision and recall values are also balanced, making this a strong baseline model.\n"
      ],
      "metadata": {
        "id": "YwBq7VlrNdJl"
      }
    },
    {
      "cell_type": "markdown",
      "source": [
        "# 9. Conclusion\n",
        "\n",
        "In this research project, we demonstrated how NLP techniques can be used to detect fake news.  \n",
        "Using the Passive Aggressive Classifier along with TF-IDF feature extraction, we achieved over **90% accuracy**.\n",
        "\n",
        "### Key Takeaways:\n",
        "- Text data can be converted into machine-understandable format using vectorizers like TF-IDF\n",
        "- Even simple ML models can achieve strong performance with good preprocessing\n",
        "- There is room to further improve accuracy using deep learning (e.g., BERT, LSTM)\n",
        "\n",
        "This system can potentially be used as a base for a real-time fake news detection application.\n"
      ],
      "metadata": {
        "id": "V4SqhLr2Ne8r"
      }
    },
    {
      "cell_type": "markdown",
      "source": [
        "# 10. References\n",
        "\n",
        "- Kaggle Dataset: https://www.kaggle.com/clmentbisaillon/fake-and-real-news-dataset  \n",
        "- scikit-learn Documentation: https://scikit-learn.org  \n",
        "- Research Papers on Fake News Detection using NLP\n"
      ],
      "metadata": {
        "id": "qmFo4np_NgwU"
      }
    }
  ]
}